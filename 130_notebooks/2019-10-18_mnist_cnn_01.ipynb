{
 "cells": [
  {
   "cell_type": "code",
   "execution_count": 2,
   "metadata": {
    "pycharm": {
     "is_executing": false
    }
   },
   "outputs": [],
   "source": [
    "import tensorflow as tf\n",
    "import matplotlib.pyplot as plt\n",
    "from keras.losses import categorical_crossentropy\n",
    "from keras.models import Sequential\n",
    "from keras.layers import Dense, Dropout, Flatten\n",
    "from keras.layers import Conv2D, MaxPooling2D\n",
    "from keras.optimizers import Adadelta\n",
    "from keras.utils import to_categorical"
   ]
  },
  {
   "cell_type": "code",
   "execution_count": 3,
   "metadata": {
    "pycharm": {
     "is_executing": false
    }
   },
   "outputs": [],
   "source": [
    "n_classes = 10  # 10 classes aka numbers\n",
    "n_epochs = 12  # number of epochs\n",
    "batch_size = 128\n",
    "n_rows, n_cols = 28, 28  # image dimensions"
   ]
  },
  {
   "cell_type": "code",
   "execution_count": 4,
   "metadata": {
    "pycharm": {
     "is_executing": false
    }
   },
   "outputs": [],
   "source": [
    "# import train and test data\n",
    "(X_train, y_train), (X_test, y_test) = tf.keras.datasets.mnist.load_data()"
   ]
  },
  {
   "cell_type": "code",
   "execution_count": 5,
   "metadata": {
    "pycharm": {
     "is_executing": false
    }
   },
   "outputs": [
    {
     "data": {
      "text/plain": "<matplotlib.image.AxesImage at 0x7f8a15824ac8>"
     },
     "metadata": {},
     "output_type": "execute_result",
     "execution_count": 5
    },
    {
     "data": {
      "image/png": "[encoded data removed]",
      "text/plain": "<Figure size 432x288 with 1 Axes>"
     },
     "metadata": {
      "needs_background": "light"
     },
     "output_type": "display_data"
    }
   ],
   "source": [
    "plt.imshow(X_train[1], cmap=\"gray\")"
   ]
  },
  {
   "cell_type": "code",
   "execution_count": 6,
   "metadata": {
    "pycharm": {
     "is_executing": false
    }
   },
   "outputs": [],
   "source": [
    "# reshape data\n",
    "X_train = X_train.reshape(X_train.shape[0], n_rows, n_cols, 1)\n",
    "X_test = X_test.reshape(X_test.shape[0], n_rows, n_cols, 1)\n",
    "input_shape = (n_rows, n_cols, 1)\n",
    "\n",
    "# set datatype to float and normalize\n",
    "X_train = X_train.astype(\"float32\") / 255.0\n",
    "X_test = X_test.astype(\"float32\") / 255.0\n",
    "\n",
    "# Onehot encoding of the classes\n",
    "y_train = to_categorical(y_train, n_classes)\n",
    "y_test = to_categorical(y_test, n_classes)"
   ]
  },
  {
   "cell_type": "code",
   "execution_count": 7,
   "metadata": {
    "pycharm": {
     "is_executing": false
    }
   },
   "outputs": [
    {
     "name": "stdout",
     "text": [
      "WARNING:tensorflow:From /usr/local/lib/python3.5/dist-packages/keras/backend/tensorflow_backend.py:4070: The name tf.nn.max_pool is deprecated. Please use tf.nn.max_pool2d instead.\n\n"
     ],
     "output_type": "stream"
    }
   ],
   "source": [
    "# Model creation\n",
    "model = Sequential()\n",
    "model.add(Conv2D(32, kernel_size=(3, 3),\n",
    "                activation=\"relu\",\n",
    "                input_shape=input_shape))\n",
    "model.add(Conv2D(64, (3, 3), activation=\"relu\"))\n",
    "model.add(MaxPooling2D(pool_size=(2, 2)))\n",
    "model.add(Dropout(0.25))\n",
    "model.add(Flatten())\n",
    "model.add(Dense(128, activation=\"relu\"))\n",
    "model.add(Dropout(0.5))\n",
    "model.add(Dense(n_classes, activation=\"softmax\"))\n",
    "\n",
    "model.compile(\n",
    "    loss=categorical_crossentropy,\n",
    "    optimizer=Adadelta(),\n",
    "    metrics=[\"accuracy\"]\n",
    ")"
   ]
  },
  {
   "cell_type": "code",
   "execution_count": 8,
   "metadata": {
    "pycharm": {
     "is_executing": false
    }
   },
   "outputs": [
    {
     "name": "stdout",
     "text": [
      "WARNING:tensorflow:From /usr/local/lib/python3.5/dist-packages/keras/backend/tensorflow_backend.py:422: The name tf.global_variables is deprecated. Please use tf.compat.v1.global_variables instead.\n\n",
      "Train on 60000 samples, validate on 10000 samples\nEpoch 1/12\n",
      " - 7s - loss: 0.2730 - accuracy: 0.9155 - val_loss: 0.0592 - val_accuracy: 0.9814\n",
      "Epoch 2/12\n",
      " - 3s - loss: 0.0910 - accuracy: 0.9730 - val_loss: 0.0426 - val_accuracy: 0.9852\n",
      "Epoch 3/12\n",
      " - 3s - loss: 0.0663 - accuracy: 0.9807 - val_loss: 0.0340 - val_accuracy: 0.9883\n",
      "Epoch 4/12\n",
      " - 3s - loss: 0.0551 - accuracy: 0.9834 - val_loss: 0.0323 - val_accuracy: 0.9895\n",
      "Epoch 5/12\n",
      " - 3s - loss: 0.0471 - accuracy: 0.9857 - val_loss: 0.0300 - val_accuracy: 0.9900\n",
      "Epoch 6/12\n",
      " - 3s - loss: 0.0416 - accuracy: 0.9877 - val_loss: 0.0288 - val_accuracy: 0.9906\n",
      "Epoch 7/12\n",
      " - 3s - loss: 0.0379 - accuracy: 0.9886 - val_loss: 0.0299 - val_accuracy: 0.9906\n",
      "Epoch 8/12\n",
      " - 3s - loss: 0.0344 - accuracy: 0.9899 - val_loss: 0.0264 - val_accuracy: 0.9908\n",
      "Epoch 9/12\n",
      " - 3s - loss: 0.0322 - accuracy: 0.9903 - val_loss: 0.0269 - val_accuracy: 0.9913\n",
      "Epoch 10/12\n",
      " - 3s - loss: 0.0295 - accuracy: 0.9908 - val_loss: 0.0276 - val_accuracy: 0.9912\n",
      "Epoch 11/12\n",
      " - 3s - loss: 0.0279 - accuracy: 0.9913 - val_loss: 0.0271 - val_accuracy: 0.9915\n",
      "Epoch 12/12\n",
      " - 3s - loss: 0.0253 - accuracy: 0.9922 - val_loss: 0.0282 - val_accuracy: 0.9917\n"
     ],
     "output_type": "stream"
    },
    {
     "data": {
      "text/plain": "<keras.callbacks.callbacks.History at 0x7f8a181c1ba8>"
     },
     "metadata": {},
     "output_type": "execute_result",
     "execution_count": 8
    }
   ],
   "source": [
    "model.fit(\n",
    "    X_train,\n",
    "    y_train,\n",
    "    batch_size=batch_size,\n",
    "    epochs=n_epochs,\n",
    "    verbose=2,\n",
    "    validation_data=(X_test, y_test)\n",
    ")"
   ]
  },
  {
   "cell_type": "code",
   "execution_count": null,
   "metadata": {
    "pycharm": {
     "is_executing": false
    }
   },
   "outputs": [],
   "source": [
    "score = model.evaluate(X_test, y_test, verbose=0)\n",
    "print(f\"Test loss: {score[0]}\")\n",
    "print(f\"Test accuracy: {score[1]}\")"
   ]
  },
  {
   "cell_type": "code",
   "execution_count": 78,
   "metadata": {},
   "outputs": [],
   "source": [
    "import pickle"
   ]
  },
  {
   "cell_type": "code",
   "execution_count": 95,
   "metadata": {},
   "outputs": [],
   "source": [
    "# import\n",
    "with open(\"handwritten.pkl\", \"rb\") as f:\n",
    "    X_hw, y_hw = pickle.load(f)\n",
    "    \n",
    "# reshape\n",
    "X_hw = X_hw.reshape(X_hw.shape[0], n_rows, n_cols, 1)\n",
    "\n",
    "# normalize\n",
    "X_hw = 1.0 - (X_hw.astype(\"float32\") / 255.0)\n",
    "\n",
    "# categorize\n",
    "y_hw = to_categorical(y_hw, n_classes)"
   ]
  },
  {
   "cell_type": "code",
   "execution_count": 96,
   "metadata": {},
   "outputs": [],
   "source": [
    "X_hw.shape, y_hw.shape"
   ]
  },
  {
   "cell_type": "code",
   "execution_count": 97,
   "metadata": {},
   "outputs": [],
   "source": [
    "score = model.evaluate(X_hw, y_hw, verbose=0)\n",
    "print(f\"Test loss of own handwritten digits: {score[0]}\")\n",
    "print(f\"Test accuracy: {score[1]}\")"
   ]
  },
  {
   "cell_type": "code",
   "execution_count": 118,
   "metadata": {},
   "outputs": [],
   "source": [
    "\n",
    "plt.imshow(X_train[15], cmap=\"gray\")"
   ]
  },
  {
   "cell_type": "code",
   "execution_count": 106,
   "metadata": {},
   "outputs": [],
   "source": [
    "with open(\"handwritten.pkl\", \"rb\") as f:\n",
    "    X_hw, y_hw = pickle.load(f)\n",
    "X_hw = 1 - X_hw\n",
    "plt.imshow(X_hw[0], cmap=\"gray\")"
   ]
  }
 ],
 "metadata": {
  "kernelspec": {
   "display_name": "Python 3",
   "language": "python",
   "name": "python3"
  },
  "language_info": {
   "codemirror_mode": {
    "name": "ipython",
    "version": 3
   },
   "file_extension": ".py",
   "mimetype": "text/x-python",
   "name": "python",
   "nbconvert_exporter": "python",
   "pygments_lexer": "ipython3",
   "version": "3.7.2"
  },
  "pycharm": {
   "stem_cell": {
    "cell_type": "raw",
    "source": [],
    "metadata": {
     "collapsed": false
    }
   }
  }
 },
 "nbformat": 4,
 "nbformat_minor": 2
}