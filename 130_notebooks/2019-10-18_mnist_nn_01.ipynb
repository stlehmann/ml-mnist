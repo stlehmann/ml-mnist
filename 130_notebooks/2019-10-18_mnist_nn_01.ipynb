{
 "cells": [
  {
   "cell_type": "markdown",
   "metadata": {
    "collapsed": true,
    "pycharm": {
     "name": "#%% md\n"
    }
   },
   "source": [
    "# MNIST - Fully connected NN\n",
    "\n",
    "A first very simple approach on fitting the MNIST dataset. We'll use a neural network with\n",
    "dense layers, relu activation function and softmax."
   ]
  },
  {
   "cell_type": "code",
   "execution_count": 2,
   "outputs": [],
   "source": [
    "import pandas as pd\n",
    "import matplotlib.pyplot as plt\n",
    "from keras import Sequential\n",
    "from keras.datasets import mnist\n",
    "from keras.layers import Dense, InputLayer\n",
    "from keras.optimizers import Adam\n",
    "from keras.utils import to_categorical\n",
    "from keras.losses import categorical_crossentropy\n",
    "from sklearn.model_selection import ParameterGrid\n",
    "from sklearn.metrics import accuracy_score\n",
    "import seaborn as sns\n",
    "from pyprojroot import here"
   ],
   "metadata": {
    "collapsed": false,
    "pycharm": {
     "name": "#%%\n",
     "is_executing": false
    }
   }
  },
  {
   "cell_type": "code",
   "execution_count": 3,
   "outputs": [
    {
     "name": "stdout",
     "text": [
      "MNIST dataset loaded.\nTraining datasets: 60000\nTest datasets: 10000\n"
     ],
     "output_type": "stream"
    },
    {
     "data": {
      "image/png": "[encoded data removed]",
      "text/plain": "<Figure size 720x216 with 20 Axes>"
     },
     "metadata": {
      "needs_background": "light"
     },
     "output_type": "display_data"
    }
   ],
   "source": [
    "# import train and test data\n",
    "(X_train, y_train), (X_test, y_test) = mnist.load_data()\n",
    "\n",
    "print(\"MNIST dataset loaded.\")\n",
    "print(\"Training datasets:\", X_train.shape[0])\n",
    "print(\"Test datasets:\", X_test.shape[0])\n",
    "\n",
    "fig = plt.figure(figsize=(10, 3))\n",
    "\n",
    "for i in range(20):\n",
    "    fig.add_subplot(2, 10, i+1)\n",
    "    plt.imshow(X_train[i], cmap=\"gray\")\n",
    "    plt.axis(\"off\")\n",
    "\n",
    "# reshape data\n",
    "X_train = X_train.reshape(X_train.shape[0], 28*28)\n",
    "X_test = X_test.reshape(X_test.shape[0], 28*28)\n",
    "\n",
    "# set datatype to float and normalize\n",
    "X_train = X_train.astype(\"float32\") / 255.0\n",
    "X_test = X_test.astype(\"float32\") / 255.0\n",
    "\n",
    "# Onehot encoding of the classes\n",
    "y_train = to_categorical(y_train, 10)\n",
    "y_test = to_categorical(y_test, 10)"
   ],
   "metadata": {
    "collapsed": false,
    "pycharm": {
     "name": "#%%\n",
     "is_executing": false
    }
   }
  },
  {
   "cell_type": "code",
   "execution_count": 4,
   "outputs": [],
   "source": [
    "def create_model(n_hidden: int = 1, n_units: int = 10, lr: float = 0.01) -> Sequential:\n",
    "    model = Sequential()\n",
    "    model.add(InputLayer(input_shape=(28*28,)))\n",
    "    for i in range(n_hidden):\n",
    "        model.add(Dense(n_units, activation=\"relu\"))\n",
    "    model.add(Dense(10, activation=\"softmax\"))\n",
    "\n",
    "    model.compile(\n",
    "        loss=categorical_crossentropy,\n",
    "        optimizer=Adam(learning_rate=lr),\n",
    "        metrics=[\"accuracy\"],\n",
    "    )\n",
    "    return model\n",
    "\n",
    "accuracy = []\n",
    "val_accuracy = []"
   ],
   "metadata": {
    "collapsed": false,
    "pycharm": {
     "name": "#%%\n",
     "is_executing": false
    }
   }
  },
  {
   "cell_type": "markdown",
   "source": [
    "# Parameter optimization with grid search"
   ],
   "metadata": {
    "collapsed": false,
    "pycharm": {
     "name": "#%% md\n"
    }
   }
  },
  {
   "cell_type": "code",
   "execution_count": 9,
   "outputs": [],
   "source": [
    "grid = ParameterGrid(\n",
    "    {\n",
    "        \"n_hidden\": [1, 5, 10],\n",
    "        \"n_units\": [10, 25, 50],\n",
    "        \"lr\": [0.01, 0.001, 0.0001],\n",
    "        \"n_epochs\": [12, 24]\n",
    "    }\n",
    ")\n",
    "\n",
    "def plot_history(history):\n",
    "    fig = plt.figure(figsize=(10, 5))\n",
    "    plt.plot(history.history[\"accuracy\"], label=\"accuracy\")\n",
    "    plt.plot(history.history[\"val_accuracy\"], label=\"val_accuracy\")\n",
    "    plt.title(\"Accuracy\")\n",
    "    plt.xlabel(\"epochs\")\n",
    "    plt.ylabel(\"accuracy\")\n",
    "    plt.grid()\n",
    "    plt.legend();\n",
    "    \n",
    "\n",
    "def dump_results():\n",
    "    params = [p for p in grid]\n",
    "    for i in range(len(results)):\n",
    "        params[i][\"acccuracy\"] = results[i][0]\n",
    "        params[i][\"val_accuracy\"] = results[i][1]\n",
    "\n",
    "    df = pd.DataFrame(params)\n",
    "    df.to_csv(\"010_params.csv\")"
   ],
   "metadata": {
    "collapsed": false,
    "pycharm": {
     "name": "#%%\n",
     "is_executing": false
    }
   }
  },
  {
   "cell_type": "code",
   "execution_count": null,
   "outputs": [
    {
     "name": "stdout",
     "text": [
      "Parameterset 1/54\n{'n_hidden': 1, 'n_epochs': 12, 'n_units': 10, 'lr': 0.01}\n",
      "accuracy: 0.9301000237464905, val_accuracy: 0.9315000176429749\n\nParameterset 2/54\n{'n_hidden': 1, 'n_epochs': 12, 'n_units': 25, 'lr': 0.01}\n",
      "accuracy: 0.9694666862487793, val_accuracy: 0.9510999917984009\n\nParameterset 3/54\n{'n_hidden': 1, 'n_epochs': 12, 'n_units': 50, 'lr': 0.01}\n",
      "accuracy: 0.9793333411216736, val_accuracy: 0.9679999947547913\n\nParameterset 4/54\n{'n_hidden': 5, 'n_epochs': 12, 'n_units': 10, 'lr': 0.01}\n",
      "accuracy: 0.9158499836921692, val_accuracy: 0.9138000011444092\n\nParameterset 5/54\n{'n_hidden': 5, 'n_epochs': 12, 'n_units': 25, 'lr': 0.01}\n",
      "accuracy: 0.9624000191688538, val_accuracy: 0.9564999938011169\n\nParameterset 6/54\n{'n_hidden': 5, 'n_epochs': 12, 'n_units': 50, 'lr': 0.01}\n",
      "accuracy: 0.9679833054542542, val_accuracy: 0.9528999924659729\n\nParameterset 7/54\n{'n_hidden': 10, 'n_epochs': 12, 'n_units': 10, 'lr': 0.01}\n",
      "accuracy: 0.7914333343505859, val_accuracy: 0.8061000108718872\n\nParameterset 8/54\n{'n_hidden': 10, 'n_epochs': 12, 'n_units': 25, 'lr': 0.01}\n",
      "accuracy: 0.6364666819572449, val_accuracy: 0.6283000111579895\n\nParameterset 9/54\n{'n_hidden': 10, 'n_epochs': 12, 'n_units': 50, 'lr': 0.01}\n",
      "accuracy: 0.19760000705718994, val_accuracy: 0.09799999743700027\n\nParameterset 10/54\n{'n_hidden': 1, 'n_epochs': 24, 'n_units': 10, 'lr': 0.01}\n",
      "accuracy: 0.8914166688919067, val_accuracy: 0.8870000243186951\n\nParameterset 11/54\n{'n_hidden': 1, 'n_epochs': 24, 'n_units': 25, 'lr': 0.01}\n",
      "accuracy: 0.9695833325386047, val_accuracy: 0.9495000243186951\n\nParameterset 12/54\n{'n_hidden': 1, 'n_epochs': 24, 'n_units': 50, 'lr': 0.01}\n",
      "accuracy: 0.9861000180244446, val_accuracy: 0.9674999713897705\n\nParameterset 13/54\n{'n_hidden': 5, 'n_epochs': 24, 'n_units': 10, 'lr': 0.01}\n",
      "accuracy: 0.9261666536331177, val_accuracy: 0.9235000014305115\n\nParameterset 14/54\n{'n_hidden': 5, 'n_epochs': 24, 'n_units': 25, 'lr': 0.01}\n",
      "accuracy: 0.9584000110626221, val_accuracy: 0.9545999765396118\n\nParameterset 15/54\n{'n_hidden': 5, 'n_epochs': 24, 'n_units': 50, 'lr': 0.01}\n",
      "accuracy: 0.963699996471405, val_accuracy: 0.9656000137329102\n\nParameterset 16/54\n{'n_hidden': 10, 'n_epochs': 24, 'n_units': 10, 'lr': 0.01}\n",
      "accuracy: 0.8228166699409485, val_accuracy: 0.8407999873161316\n\nParameterset 17/54\n{'n_hidden': 10, 'n_epochs': 24, 'n_units': 25, 'lr': 0.01}\n",
      "accuracy: 0.11121666431427002, val_accuracy: 0.10530000180006027\n\nParameterset 18/54\n{'n_hidden': 10, 'n_epochs': 24, 'n_units': 50, 'lr': 0.01}\n",
      "accuracy: 0.10649999976158142, val_accuracy: 0.09799999743700027\n\nParameterset 19/54\n{'n_hidden': 1, 'n_epochs': 12, 'n_units': 10, 'lr': 0.001}\n",
      "accuracy: 0.9347500205039978, val_accuracy: 0.9301000237464905\n\nParameterset 20/54\n{'n_hidden': 1, 'n_epochs': 12, 'n_units': 25, 'lr': 0.001}\n",
      "accuracy: 0.9706166386604309, val_accuracy: 0.9627000093460083\n\nParameterset 21/54\n{'n_hidden': 1, 'n_epochs': 12, 'n_units': 50, 'lr': 0.001}\n",
      "accuracy: 0.9875333309173584, val_accuracy: 0.9732000231742859\n\nParameterset 22/54\n{'n_hidden': 5, 'n_epochs': 12, 'n_units': 10, 'lr': 0.001}\n",
      "accuracy: 0.9435666799545288, val_accuracy: 0.9394999742507935\n\nParameterset 23/54\n{'n_hidden': 5, 'n_epochs': 12, 'n_units': 25, 'lr': 0.001}\n",
      "accuracy: 0.9763166904449463, val_accuracy: 0.9635000228881836\n\nParameterset 24/54\n{'n_hidden': 5, 'n_epochs': 12, 'n_units': 50, 'lr': 0.001}\n",
      "accuracy: 0.9884833097457886, val_accuracy: 0.973800003528595\n\nParameterset 25/54\n{'n_hidden': 10, 'n_epochs': 12, 'n_units': 10, 'lr': 0.001}\n",
      "accuracy: 0.939216673374176, val_accuracy: 0.9319999814033508\n\nParameterset 26/54\n{'n_hidden': 10, 'n_epochs': 12, 'n_units': 25, 'lr': 0.001}\n",
      "accuracy: 0.9749166369438171, val_accuracy: 0.9634000062942505\n\nParameterset 27/54\n{'n_hidden': 10, 'n_epochs': 12, 'n_units': 50, 'lr': 0.001}\n",
      "accuracy: 0.9855333566665649, val_accuracy: 0.9679999947547913\n\nParameterset 28/54\n{'n_hidden': 1, 'n_epochs': 24, 'n_units': 10, 'lr': 0.001}\n",
      "accuracy: 0.9491999745368958, val_accuracy: 0.9419000148773193\n\nParameterset 29/54\n{'n_hidden': 1, 'n_epochs': 24, 'n_units': 25, 'lr': 0.001}\n",
      "accuracy: 0.9807500243186951, val_accuracy: 0.9616000056266785\n\nParameterset 30/54\n{'n_hidden': 1, 'n_epochs': 24, 'n_units': 50, 'lr': 0.001}\n",
      "accuracy: 0.9960333108901978, val_accuracy: 0.9761999845504761\n\nParameterset 31/54\n{'n_hidden': 5, 'n_epochs': 24, 'n_units': 10, 'lr': 0.001}\n",
      "accuracy: 0.9444833397865295, val_accuracy: 0.9330000281333923\n\nParameterset 32/54\n{'n_hidden': 5, 'n_epochs': 24, 'n_units': 25, 'lr': 0.001}\n",
      "accuracy: 0.984416663646698, val_accuracy: 0.9646999835968018\n\nParameterset 33/54\n{'n_hidden': 5, 'n_epochs': 24, 'n_units': 50, 'lr': 0.001}\n",
      "accuracy: 0.9927666783332825, val_accuracy: 0.9704999923706055\n\nParameterset 34/54\n{'n_hidden': 10, 'n_epochs': 24, 'n_units': 10, 'lr': 0.001}\n"
     ],
     "output_type": "stream"
    }
   ],
   "source": [
    "results = []\n",
    "for i, p in enumerate(grid):\n",
    "    print(\"Parameterset {0}/{1}\".format(i+1, len(grid)))\n",
    "    print(p)\n",
    "    model = create_model(n_hidden=p[\"n_hidden\"], n_units=p[\"n_units\"], lr=p[\"lr\"])\n",
    "\n",
    "    history = model.fit(\n",
    "        X_train,\n",
    "        y_train,\n",
    "        batch_size=64,\n",
    "        epochs=p[\"n_epochs\"],\n",
    "        verbose=0,\n",
    "        validation_data=(X_test, y_test),\n",
    "    )\n",
    "    \n",
    "    acc, val_acc = history.history[\"accuracy\"][-1], history.history[\"val_accuracy\"][-1]\n",
    "    results.append((acc, val_acc))\n",
    "    print(\"accuracy: {0}, val_accuracy: {1}\".format(acc, val_acc))\n",
    "    print(\"\")\n",
    "    dump_results()"
   ],
   "metadata": {
    "collapsed": false,
    "pycharm": {
     "name": "#%%\n",
     "is_executing": true
    }
   }
  },
  {
   "cell_type": "code",
   "execution_count": 53,
   "outputs": [],
   "source": [],
   "metadata": {
    "collapsed": false,
    "pycharm": {
     "name": "#%%\n",
     "is_executing": false
    }
   }
  }
 ],
 "metadata": {
  "kernelspec": {
   "display_name": "Python 3",
   "language": "python",
   "name": "python3"
  },
  "language_info": {
   "codemirror_mode": {
    "name": "ipython",
    "version": 2
   },
   "file_extension": ".py",
   "mimetype": "text/x-python",
   "name": "python",
   "nbconvert_exporter": "python",
   "pygments_lexer": "ipython2",
   "version": "2.7.6"
  },
  "pycharm": {
   "stem_cell": {
    "cell_type": "raw",
    "source": [],
    "metadata": {
     "collapsed": false
    }
   }
  }
 },
 "nbformat": 4,
 "nbformat_minor": 0
}